{
 "cells": [
  {
   "cell_type": "markdown",
   "metadata": {},
   "source": [
    "# View CP2K Calculation Results"
   ]
  },
  {
   "cell_type": "code",
   "execution_count": null,
   "metadata": {
    "collapsed": true
   },
   "outputs": [],
   "source": [
    "from __future__ import print_function\n",
    "\n",
    "from aiida import load_dbenv, is_dbenv_loaded\n",
    "from aiida.backends import settings\n",
    "if not is_dbenv_loaded():\n",
    "    load_dbenv(profile=settings.AIIDADB_PROFILE)\n",
    "\n",
    "from aiida.orm.querybuilder import QueryBuilder\n",
    "from aiida.orm.data.structure import StructureData\n",
    "from aiida.orm.data.parameter import ParameterData\n",
    "from aiida.orm.calculation.job.cp2k import Cp2kCalculation\n",
    "from aiida.orm.code import Code\n",
    "\n",
    "from aiida.orm import load_node \n",
    "\n",
    "import ipywidgets as widgets\n",
    "from IPython.display import display, clear_output\n",
    "import nglview\n",
    "\n",
    "import urlparse\n",
    "from collections import OrderedDict"
   ]
  },
  {
   "cell_type": "code",
   "execution_count": null,
   "metadata": {
    "collapsed": false
   },
   "outputs": [],
   "source": [
    "%%html\n",
    "<!-- fix width of descriptions -->\n",
    "<style>\n",
    ".widget-hbox .widget-label {width: 150px; max-width: 150px}\n",
    "</style>"
   ]
  },
  {
   "cell_type": "code",
   "execution_count": null,
   "metadata": {
    "collapsed": true
   },
   "outputs": [],
   "source": [
    "def get_all_calcs():\n",
    "    # query AiiDA database for structures\n",
    "    qb = QueryBuilder()\n",
    "    qb.append(Cp2kCalculation, project=[\"id\", \"description\"])\n",
    "    #qb.order_by({StructureData: {'ctime': 'desc'}})\n",
    "    #print qb.count()\n",
    "    qb.all()\n",
    "\n",
    "    all_calcs = OrderedDict()\n",
    "    for pk, descr in qb.iterall():\n",
    "        label = \"PK: %d\"%pk\n",
    "        if descr:\n",
    "            label += \"; descr: \"+descr\n",
    "        all_calcs[label] = pk\n",
    "    return all_calcs"
   ]
  },
  {
   "cell_type": "code",
   "execution_count": null,
   "metadata": {
    "collapsed": false
   },
   "outputs": [],
   "source": [
    "def reload_calcs(b):\n",
    "    inp_calc.options = get_all_calcs()\n",
    "    update_view(None)\n",
    "    \n",
    "#inp_calc = widgets.Dropdown(description=\"Calculation\", options=get_all_calcs())\n",
    "inp_calc = widgets.Select(description=\"Calculation\", options=get_all_calcs())\n",
    "btn_reload_cals = widgets.Button(description=\"Reload\")\n",
    "btn_reload_cals.on_click(reload_calcs)\n",
    "\n",
    "# parse URL\n",
    "url = urlparse.urlsplit(jupyter_notebook_url)\n",
    "querypart = urlparse.parse_qs(url.query)\n",
    "if 'pk' in querypart.keys():\n",
    "    inp_calc.value = int(querypart['pk'][0])\n",
    "\n",
    "display(widgets.HBox([inp_calc, btn_reload_cals]))"
   ]
  },
  {
   "cell_type": "code",
   "execution_count": null,
   "metadata": {
    "collapsed": false
   },
   "outputs": [],
   "source": [
    "info_box = widgets.HTML()\n",
    "\n",
    "def update_view(c):\n",
    "    clear_output()\n",
    "    if inp_calc.value == None:\n",
    "        return\n",
    "    node = load_node(inp_calc.value)\n",
    "    output = str(node) + \"\\n\"\n",
    "    output += \"state: \"+node.get_state() +\"\\n\"\n",
    "    if node.get_state() == \"FINISHED\":\n",
    "        output += \"Energy: %e %s\\n\"%(node.res.energy, node.res.energy_units)\n",
    "    info_box.value = \"<pre>\"+output+\"</pre>\"\n",
    "\n",
    "update_view(None)\n",
    "inp_calc.observe(update_view, names='value')\n",
    "\n",
    "display(info_box)"
   ]
  }
 ],
 "metadata": {
  "kernelspec": {
   "display_name": "Python 2",
   "language": "python",
   "name": "python2"
  },
  "language_info": {
   "codemirror_mode": {
    "name": "ipython",
    "version": 2
   },
   "file_extension": ".py",
   "mimetype": "text/x-python",
   "name": "python",
   "nbconvert_exporter": "python",
   "pygments_lexer": "ipython2",
   "version": "2.7.13"
  }
 },
 "nbformat": 4,
 "nbformat_minor": 2
}
