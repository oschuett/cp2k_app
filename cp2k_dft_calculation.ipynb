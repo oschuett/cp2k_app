{
 "cells": [
  {
   "cell_type": "markdown",
   "metadata": {},
   "source": [
    "# Submit CP2K DFT Calculation"
   ]
  },
  {
   "cell_type": "code",
   "execution_count": null,
   "metadata": {
    "collapsed": true
   },
   "outputs": [],
   "source": [
    "from aiida import load_dbenv, is_dbenv_loaded\n",
    "from aiida.backends import settings\n",
    "if not is_dbenv_loaded():\n",
    "    load_dbenv(profile=settings.AIIDADB_PROFILE)\n",
    "\n",
    "from aiida.orm.querybuilder import QueryBuilder\n",
    "from aiida.orm.data.structure import StructureData\n",
    "from aiida.orm.data.parameter import ParameterData\n",
    "from aiida.orm.code import Code\n",
    "from aiida.orm import load_node \n",
    "\n",
    "import ipywidgets as widgets\n",
    "from IPython.display import display, clear_output, HTML\n",
    "import nglview\n",
    "\n",
    "from collections import OrderedDict"
   ]
  },
  {
   "cell_type": "markdown",
   "metadata": {},
   "source": [
    "## Step 1: Select Structure from Database"
   ]
  },
  {
   "cell_type": "code",
   "execution_count": null,
   "metadata": {
    "collapsed": false
   },
   "outputs": [],
   "source": [
    "# query AiiDA database for structures\n",
    "qb = QueryBuilder()\n",
    "qb.append(StructureData, project=[\"id\", \"description\"])\n",
    "qb.order_by({StructureData: {'ctime': 'desc'}})\n",
    "#print qb.count()\n",
    "\n",
    "all_structs = OrderedDict()\n",
    "all_structs[\"Select a Structure\"] = None\n",
    "for pk, descr in qb.iterall():\n",
    "    label = \"PK: %d\"%pk\n",
    "    if descr:\n",
    "        label += \"; descr: \"+descr\n",
    "    all_structs[label] = pk\n",
    "\n",
    "def on_struct_change(c):\n",
    "    global structure, atoms\n",
    "    structure = load_node(drop_struct.value)\n",
    "    atoms = structure.get_ase()\n",
    "    for i in viewer._ngl_component_ids:\n",
    "        viewer.remove_component(i)\n",
    "    viewer.add_component(nglview.ASEStructure(atoms))\n",
    "    viewer.add_ball_and_stick()\n",
    "    viewer.add_unitcell()\n",
    "    viewer.center_view()\n",
    "\n",
    "drop_struct = widgets.Dropdown(options=all_structs, value=None)\n",
    "drop_struct.observe(on_struct_change, names='value')\n",
    "viewer = nglview.NGLWidget()\n",
    "display(widgets.VBox([drop_struct, viewer]))"
   ]
  },
  {
   "cell_type": "code",
   "execution_count": null,
   "metadata": {
    "collapsed": false
   },
   "outputs": [],
   "source": [
    "%%html\n",
    "<!-- fix width of descriptions -->\n",
    "<style>\n",
    ".widget-hbox .widget-label {width: 150px; max-width: 150px}\n",
    "</style>"
   ]
  },
  {
   "cell_type": "markdown",
   "metadata": {},
   "source": [
    "## Step 2: Choose parameters and test submission"
   ]
  },
  {
   "cell_type": "code",
   "execution_count": null,
   "metadata": {
    "collapsed": false
   },
   "outputs": [],
   "source": [
    "def get_computer_names():\n",
    "    #https://github.com/aiidateam/aiida_core/blob/develop/aiida/cmdline/commands/computer.py#L1047\n",
    "    qb = QueryBuilder()\n",
    "    qb.append(type='computer', project=['name'])\n",
    "    return zip(*qb.all())[0]"
   ]
  },
  {
   "cell_type": "code",
   "execution_count": null,
   "metadata": {
    "collapsed": false
   },
   "outputs": [],
   "source": [
    "l = widgets.Layout(width=\"400px\")\n",
    "inp_compname = widgets.Dropdown(description=\"Computer\", options=get_computer_names(), layout=l)\n",
    "inp_xc = widgets.Dropdown(description=\"XC Functional\", options=[\"LDA\", \"PBE\"], layout=l)\n",
    "inp_basis = widgets.Dropdown(description=\"Basis Set\", options=[\"SZV-MOLOPT-SR-GTH\", \"DZVP-MOLOPT-SR-GTH\"], layout=l)\n",
    "inp_descr = widgets.Text(description=\"Description\", placeholder=\"(optional)\", placelayout=l)\n",
    "display(widgets.VBox([inp_compname,inp_xc, inp_basis, inp_descr]))"
   ]
  },
  {
   "cell_type": "code",
   "execution_count": null,
   "metadata": {
    "collapsed": true
   },
   "outputs": [],
   "source": [
    "def build_parameters():\n",
    "    kinds = []\n",
    "    for k in structure.get_kind_names():\n",
    "        kinds.append({'_':k, 'basis_set': inp_basis.value,  'potential': \"GTH-\"+inp_xc.value})\n",
    "\n",
    "    force_eval = {\n",
    "            'method': 'Quickstep',\n",
    "            'dft': {\n",
    "                'basis_set_file_name': 'BASIS_MOLOPT',\n",
    "                'xc': {\n",
    "                    'xc_functional': {\n",
    "                        '_': inp_xc.value,\n",
    "                    },\n",
    "                },\n",
    "                \n",
    "            },\n",
    "            'subsys': {\n",
    "                'kind': kinds,\n",
    "            },\n",
    "        }\n",
    "\n",
    "    return ParameterData(dict={'force_eval':force_eval})"
   ]
  },
  {
   "cell_type": "code",
   "execution_count": null,
   "metadata": {
    "collapsed": true
   },
   "outputs": [],
   "source": [
    "def build_calc():\n",
    "    code = Code.get_from_string(\"cp2k@\"+inp_compname.value)\n",
    "\n",
    "    # calc object\n",
    "    calc = code.new_calc()\n",
    "    calc.description = inp_descr.value\n",
    "\n",
    "    # structure\n",
    "    calc.use_structure(structure)\n",
    "\n",
    "    # parameters\n",
    "    parameters = build_parameters()\n",
    "    calc.use_parameters(parameters)\n",
    "\n",
    "    # resources\n",
    "    calc.set_max_wallclock_seconds(3*60) # 3 min\n",
    "    calc.set_resources({\"num_machines\": 1})\n",
    "    return calc"
   ]
  },
  {
   "cell_type": "markdown",
   "metadata": {},
   "source": [
    "## Step 3: Test submission"
   ]
  },
  {
   "cell_type": "code",
   "execution_count": null,
   "metadata": {
    "collapsed": false
   },
   "outputs": [],
   "source": [
    "def on_test(b):\n",
    "    clear_output()\n",
    "    calc = build_calc()\n",
    "    calc.submit_test()\n",
    "    print(\"Test went fine :-)\")\n",
    "    \n",
    "btn_test = widgets.Button(description=\"Test\")\n",
    "btn_test.on_click(on_test)\n",
    "display(btn_test)"
   ]
  },
  {
   "cell_type": "markdown",
   "metadata": {},
   "source": [
    "## Step 4: Submit calculation"
   ]
  },
  {
   "cell_type": "code",
   "execution_count": null,
   "metadata": {
    "collapsed": true
   },
   "outputs": [],
   "source": [
    "def on_submit(b):\n",
    "    clear_output()\n",
    "    calc = build_calc()\n",
    "    # store and submit\n",
    "    calc.store_all()\n",
    "    calc.submit()\n",
    "    msg = \"Submitted calculation: UUID=%s, pk=%s .<br>\"%(calc.uuid,calc.dbnode.pk)\n",
    "    msg += 'Results can be viewed <a href=\"view_cp2k_calc.ipynb?pk=%d\">here</a>'%calc.dbnode.pk\n",
    "    display(HTML(msg))\n",
    "    \n",
    "btn_submit = widgets.Button(description=\"Submit\")\n",
    "btn_submit.on_click(on_submit)\n",
    "display(btn_submit)"
   ]
  }
 ],
 "metadata": {
  "kernelspec": {
   "display_name": "Python 2",
   "language": "python",
   "name": "python2"
  },
  "language_info": {
   "codemirror_mode": {
    "name": "ipython",
    "version": 2
   },
   "file_extension": ".py",
   "mimetype": "text/x-python",
   "name": "python",
   "nbconvert_exporter": "python",
   "pygments_lexer": "ipython2",
   "version": "2.7.13"
  }
 },
 "nbformat": 4,
 "nbformat_minor": 2
}
